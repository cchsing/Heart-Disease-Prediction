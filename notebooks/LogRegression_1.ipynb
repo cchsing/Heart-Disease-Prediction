{
 "cells": [
  {
   "cell_type": "code",
   "execution_count": 4,
   "metadata": {},
   "outputs": [
    {
     "data": {
      "text/plain": [
       "'c:\\\\Users\\\\CHChong\\\\Documents\\\\Projects\\\\WQD7003_DataAnalytics'"
      ]
     },
     "execution_count": 4,
     "metadata": {},
     "output_type": "execute_result"
    }
   ],
   "source": [
    "import os, re\n",
    "curPath = os.getcwd()\n",
    "match = re.search(pattern=r\"^.+?WQD7003_DataAnalytics\", string=curPath, flags=re.IGNORECASE)\n",
    "rootPath = match.group()\n",
    "os.chdir(rootPath)\n",
    "os.getcwd()"
   ]
  },
  {
   "cell_type": "code",
   "execution_count": 5,
   "metadata": {},
   "outputs": [],
   "source": [
    "import numpy as np\n",
    "import pandas as pd\n",
    "\n",
    "from sklearn.linear_model import LogisticRegression\n",
    "from sklearn.model_selection import train_test_split, RepeatedStratifiedKFold, GridSearchCV\n",
    "\n",
    "from sklearn.metrics import classification_report, roc_auc_score, roc_curve, confusion_matrix\n",
    "\n",
    "from imblearn.ensemble import BalancedBaggingClassifier\n",
    "\n",
    "import matplotlib.pyplot as plt\n",
    "import seaborn as sns"
   ]
  },
  {
   "cell_type": "code",
   "execution_count": 6,
   "metadata": {},
   "outputs": [],
   "source": [
    "DataFilePath_1 = \"./data/Heart_2022_Encoded_1.csv\"\n",
    "target_classes = ['HadHeartAttack_No','HadHeartAttack_Yes']"
   ]
  },
  {
   "cell_type": "code",
   "execution_count": 7,
   "metadata": {},
   "outputs": [],
   "source": [
    "df = pd.read_csv(DataFilePath_1)"
   ]
  },
  {
   "cell_type": "code",
   "execution_count": 8,
   "metadata": {},
   "outputs": [
    {
     "data": {
      "text/html": [
       "<div>\n",
       "<style scoped>\n",
       "    .dataframe tbody tr th:only-of-type {\n",
       "        vertical-align: middle;\n",
       "    }\n",
       "\n",
       "    .dataframe tbody tr th {\n",
       "        vertical-align: top;\n",
       "    }\n",
       "\n",
       "    .dataframe thead th {\n",
       "        text-align: right;\n",
       "    }\n",
       "</style>\n",
       "<table border=\"1\" class=\"dataframe\">\n",
       "  <thead>\n",
       "    <tr style=\"text-align: right;\">\n",
       "      <th></th>\n",
       "      <th>oe_1__Sex</th>\n",
       "      <th>oe_2__GeneralHealth</th>\n",
       "      <th>oe_3_1__PhysicalActivities</th>\n",
       "      <th>oe_3_2__HadHeartAttack</th>\n",
       "      <th>oe_3_3__HadAngina</th>\n",
       "      <th>oe_3_4__HadStroke</th>\n",
       "      <th>oe_3_5__HadAsthma</th>\n",
       "      <th>oe_3_6__HadSkinCancer</th>\n",
       "      <th>oe_3_7__HadCOPD</th>\n",
       "      <th>oe_3_8__HadDepressiveDisorder</th>\n",
       "      <th>...</th>\n",
       "      <th>oe_7__ECigaretteUsage</th>\n",
       "      <th>oe_8__RaceEthnicityCategory_Black only, Non-Hispanic</th>\n",
       "      <th>oe_8__RaceEthnicityCategory_Hispanic</th>\n",
       "      <th>oe_8__RaceEthnicityCategory_Multiracial, Non-Hispanic</th>\n",
       "      <th>oe_8__RaceEthnicityCategory_Other race only, Non-Hispanic</th>\n",
       "      <th>oe_8__RaceEthnicityCategory_White only, Non-Hispanic</th>\n",
       "      <th>remainder__PhysicalHealthDays</th>\n",
       "      <th>remainder__MentalHealthDays</th>\n",
       "      <th>remainder__SleepHours</th>\n",
       "      <th>remainder__BMI</th>\n",
       "    </tr>\n",
       "  </thead>\n",
       "  <tbody>\n",
       "    <tr>\n",
       "      <th>0</th>\n",
       "      <td>0.0</td>\n",
       "      <td>4.0</td>\n",
       "      <td>0.0</td>\n",
       "      <td>0.0</td>\n",
       "      <td>0.0</td>\n",
       "      <td>0.0</td>\n",
       "      <td>0.0</td>\n",
       "      <td>1.0</td>\n",
       "      <td>0.0</td>\n",
       "      <td>0.0</td>\n",
       "      <td>...</td>\n",
       "      <td>0.0</td>\n",
       "      <td>0.0</td>\n",
       "      <td>0.0</td>\n",
       "      <td>0.0</td>\n",
       "      <td>0.0</td>\n",
       "      <td>1.0</td>\n",
       "      <td>0.0</td>\n",
       "      <td>0.0</td>\n",
       "      <td>6.0</td>\n",
       "      <td>26.57</td>\n",
       "    </tr>\n",
       "    <tr>\n",
       "      <th>1</th>\n",
       "      <td>0.0</td>\n",
       "      <td>3.0</td>\n",
       "      <td>1.0</td>\n",
       "      <td>0.0</td>\n",
       "      <td>0.0</td>\n",
       "      <td>0.0</td>\n",
       "      <td>0.0</td>\n",
       "      <td>1.0</td>\n",
       "      <td>0.0</td>\n",
       "      <td>0.0</td>\n",
       "      <td>...</td>\n",
       "      <td>0.0</td>\n",
       "      <td>0.0</td>\n",
       "      <td>0.0</td>\n",
       "      <td>0.0</td>\n",
       "      <td>0.0</td>\n",
       "      <td>1.0</td>\n",
       "      <td>2.0</td>\n",
       "      <td>3.0</td>\n",
       "      <td>5.0</td>\n",
       "      <td>25.61</td>\n",
       "    </tr>\n",
       "    <tr>\n",
       "      <th>2</th>\n",
       "      <td>0.0</td>\n",
       "      <td>1.0</td>\n",
       "      <td>1.0</td>\n",
       "      <td>0.0</td>\n",
       "      <td>0.0</td>\n",
       "      <td>0.0</td>\n",
       "      <td>0.0</td>\n",
       "      <td>0.0</td>\n",
       "      <td>0.0</td>\n",
       "      <td>0.0</td>\n",
       "      <td>...</td>\n",
       "      <td>0.0</td>\n",
       "      <td>0.0</td>\n",
       "      <td>0.0</td>\n",
       "      <td>0.0</td>\n",
       "      <td>0.0</td>\n",
       "      <td>1.0</td>\n",
       "      <td>2.0</td>\n",
       "      <td>0.0</td>\n",
       "      <td>9.0</td>\n",
       "      <td>21.77</td>\n",
       "    </tr>\n",
       "    <tr>\n",
       "      <th>3</th>\n",
       "      <td>1.0</td>\n",
       "      <td>0.0</td>\n",
       "      <td>0.0</td>\n",
       "      <td>1.0</td>\n",
       "      <td>0.0</td>\n",
       "      <td>1.0</td>\n",
       "      <td>0.0</td>\n",
       "      <td>0.0</td>\n",
       "      <td>0.0</td>\n",
       "      <td>0.0</td>\n",
       "      <td>...</td>\n",
       "      <td>0.0</td>\n",
       "      <td>0.0</td>\n",
       "      <td>0.0</td>\n",
       "      <td>0.0</td>\n",
       "      <td>0.0</td>\n",
       "      <td>1.0</td>\n",
       "      <td>1.0</td>\n",
       "      <td>0.0</td>\n",
       "      <td>7.0</td>\n",
       "      <td>26.08</td>\n",
       "    </tr>\n",
       "    <tr>\n",
       "      <th>4</th>\n",
       "      <td>0.0</td>\n",
       "      <td>3.0</td>\n",
       "      <td>1.0</td>\n",
       "      <td>0.0</td>\n",
       "      <td>0.0</td>\n",
       "      <td>0.0</td>\n",
       "      <td>0.0</td>\n",
       "      <td>0.0</td>\n",
       "      <td>0.0</td>\n",
       "      <td>0.0</td>\n",
       "      <td>...</td>\n",
       "      <td>0.0</td>\n",
       "      <td>1.0</td>\n",
       "      <td>0.0</td>\n",
       "      <td>0.0</td>\n",
       "      <td>0.0</td>\n",
       "      <td>0.0</td>\n",
       "      <td>0.0</td>\n",
       "      <td>0.0</td>\n",
       "      <td>7.0</td>\n",
       "      <td>22.96</td>\n",
       "    </tr>\n",
       "    <tr>\n",
       "      <th>...</th>\n",
       "      <td>...</td>\n",
       "      <td>...</td>\n",
       "      <td>...</td>\n",
       "      <td>...</td>\n",
       "      <td>...</td>\n",
       "      <td>...</td>\n",
       "      <td>...</td>\n",
       "      <td>...</td>\n",
       "      <td>...</td>\n",
       "      <td>...</td>\n",
       "      <td>...</td>\n",
       "      <td>...</td>\n",
       "      <td>...</td>\n",
       "      <td>...</td>\n",
       "      <td>...</td>\n",
       "      <td>...</td>\n",
       "      <td>...</td>\n",
       "      <td>...</td>\n",
       "      <td>...</td>\n",
       "      <td>...</td>\n",
       "      <td>...</td>\n",
       "    </tr>\n",
       "    <tr>\n",
       "      <th>329658</th>\n",
       "      <td>1.0</td>\n",
       "      <td>2.0</td>\n",
       "      <td>1.0</td>\n",
       "      <td>0.0</td>\n",
       "      <td>0.0</td>\n",
       "      <td>1.0</td>\n",
       "      <td>0.0</td>\n",
       "      <td>0.0</td>\n",
       "      <td>0.0</td>\n",
       "      <td>0.0</td>\n",
       "      <td>...</td>\n",
       "      <td>0.0</td>\n",
       "      <td>0.0</td>\n",
       "      <td>0.0</td>\n",
       "      <td>1.0</td>\n",
       "      <td>0.0</td>\n",
       "      <td>0.0</td>\n",
       "      <td>0.0</td>\n",
       "      <td>15.0</td>\n",
       "      <td>7.0</td>\n",
       "      <td>29.86</td>\n",
       "    </tr>\n",
       "    <tr>\n",
       "      <th>329659</th>\n",
       "      <td>1.0</td>\n",
       "      <td>2.0</td>\n",
       "      <td>1.0</td>\n",
       "      <td>0.0</td>\n",
       "      <td>0.0</td>\n",
       "      <td>0.0</td>\n",
       "      <td>0.0</td>\n",
       "      <td>0.0</td>\n",
       "      <td>0.0</td>\n",
       "      <td>0.0</td>\n",
       "      <td>...</td>\n",
       "      <td>0.0</td>\n",
       "      <td>0.0</td>\n",
       "      <td>0.0</td>\n",
       "      <td>0.0</td>\n",
       "      <td>0.0</td>\n",
       "      <td>1.0</td>\n",
       "      <td>0.0</td>\n",
       "      <td>0.0</td>\n",
       "      <td>8.0</td>\n",
       "      <td>31.19</td>\n",
       "    </tr>\n",
       "    <tr>\n",
       "      <th>329660</th>\n",
       "      <td>0.0</td>\n",
       "      <td>4.0</td>\n",
       "      <td>1.0</td>\n",
       "      <td>0.0</td>\n",
       "      <td>0.0</td>\n",
       "      <td>0.0</td>\n",
       "      <td>0.0</td>\n",
       "      <td>0.0</td>\n",
       "      <td>0.0</td>\n",
       "      <td>0.0</td>\n",
       "      <td>...</td>\n",
       "      <td>0.0</td>\n",
       "      <td>1.0</td>\n",
       "      <td>0.0</td>\n",
       "      <td>0.0</td>\n",
       "      <td>0.0</td>\n",
       "      <td>0.0</td>\n",
       "      <td>2.0</td>\n",
       "      <td>2.0</td>\n",
       "      <td>7.0</td>\n",
       "      <td>28.66</td>\n",
       "    </tr>\n",
       "    <tr>\n",
       "      <th>329661</th>\n",
       "      <td>1.0</td>\n",
       "      <td>3.0</td>\n",
       "      <td>0.0</td>\n",
       "      <td>1.0</td>\n",
       "      <td>0.0</td>\n",
       "      <td>0.0</td>\n",
       "      <td>1.0</td>\n",
       "      <td>0.0</td>\n",
       "      <td>0.0</td>\n",
       "      <td>0.0</td>\n",
       "      <td>...</td>\n",
       "      <td>0.0</td>\n",
       "      <td>1.0</td>\n",
       "      <td>0.0</td>\n",
       "      <td>0.0</td>\n",
       "      <td>0.0</td>\n",
       "      <td>0.0</td>\n",
       "      <td>0.0</td>\n",
       "      <td>0.0</td>\n",
       "      <td>5.0</td>\n",
       "      <td>32.55</td>\n",
       "    </tr>\n",
       "    <tr>\n",
       "      <th>329662</th>\n",
       "      <td>1.0</td>\n",
       "      <td>3.0</td>\n",
       "      <td>1.0</td>\n",
       "      <td>0.0</td>\n",
       "      <td>0.0</td>\n",
       "      <td>0.0</td>\n",
       "      <td>0.0</td>\n",
       "      <td>0.0</td>\n",
       "      <td>0.0</td>\n",
       "      <td>0.0</td>\n",
       "      <td>...</td>\n",
       "      <td>1.0</td>\n",
       "      <td>1.0</td>\n",
       "      <td>0.0</td>\n",
       "      <td>0.0</td>\n",
       "      <td>0.0</td>\n",
       "      <td>0.0</td>\n",
       "      <td>0.0</td>\n",
       "      <td>1.0</td>\n",
       "      <td>5.0</td>\n",
       "      <td>22.60</td>\n",
       "    </tr>\n",
       "  </tbody>\n",
       "</table>\n",
       "<p>329663 rows × 26 columns</p>\n",
       "</div>"
      ],
      "text/plain": [
       "        oe_1__Sex  oe_2__GeneralHealth  oe_3_1__PhysicalActivities  \\\n",
       "0             0.0                  4.0                         0.0   \n",
       "1             0.0                  3.0                         1.0   \n",
       "2             0.0                  1.0                         1.0   \n",
       "3             1.0                  0.0                         0.0   \n",
       "4             0.0                  3.0                         1.0   \n",
       "...           ...                  ...                         ...   \n",
       "329658        1.0                  2.0                         1.0   \n",
       "329659        1.0                  2.0                         1.0   \n",
       "329660        0.0                  4.0                         1.0   \n",
       "329661        1.0                  3.0                         0.0   \n",
       "329662        1.0                  3.0                         1.0   \n",
       "\n",
       "        oe_3_2__HadHeartAttack  oe_3_3__HadAngina  oe_3_4__HadStroke  \\\n",
       "0                          0.0                0.0                0.0   \n",
       "1                          0.0                0.0                0.0   \n",
       "2                          0.0                0.0                0.0   \n",
       "3                          1.0                0.0                1.0   \n",
       "4                          0.0                0.0                0.0   \n",
       "...                        ...                ...                ...   \n",
       "329658                     0.0                0.0                1.0   \n",
       "329659                     0.0                0.0                0.0   \n",
       "329660                     0.0                0.0                0.0   \n",
       "329661                     1.0                0.0                0.0   \n",
       "329662                     0.0                0.0                0.0   \n",
       "\n",
       "        oe_3_5__HadAsthma  oe_3_6__HadSkinCancer  oe_3_7__HadCOPD  \\\n",
       "0                     0.0                    1.0              0.0   \n",
       "1                     0.0                    1.0              0.0   \n",
       "2                     0.0                    0.0              0.0   \n",
       "3                     0.0                    0.0              0.0   \n",
       "4                     0.0                    0.0              0.0   \n",
       "...                   ...                    ...              ...   \n",
       "329658                0.0                    0.0              0.0   \n",
       "329659                0.0                    0.0              0.0   \n",
       "329660                0.0                    0.0              0.0   \n",
       "329661                1.0                    0.0              0.0   \n",
       "329662                0.0                    0.0              0.0   \n",
       "\n",
       "        oe_3_8__HadDepressiveDisorder  ...  oe_7__ECigaretteUsage  \\\n",
       "0                                 0.0  ...                    0.0   \n",
       "1                                 0.0  ...                    0.0   \n",
       "2                                 0.0  ...                    0.0   \n",
       "3                                 0.0  ...                    0.0   \n",
       "4                                 0.0  ...                    0.0   \n",
       "...                               ...  ...                    ...   \n",
       "329658                            0.0  ...                    0.0   \n",
       "329659                            0.0  ...                    0.0   \n",
       "329660                            0.0  ...                    0.0   \n",
       "329661                            0.0  ...                    0.0   \n",
       "329662                            0.0  ...                    1.0   \n",
       "\n",
       "        oe_8__RaceEthnicityCategory_Black only, Non-Hispanic  \\\n",
       "0                                                     0.0      \n",
       "1                                                     0.0      \n",
       "2                                                     0.0      \n",
       "3                                                     0.0      \n",
       "4                                                     1.0      \n",
       "...                                                   ...      \n",
       "329658                                                0.0      \n",
       "329659                                                0.0      \n",
       "329660                                                1.0      \n",
       "329661                                                1.0      \n",
       "329662                                                1.0      \n",
       "\n",
       "        oe_8__RaceEthnicityCategory_Hispanic  \\\n",
       "0                                        0.0   \n",
       "1                                        0.0   \n",
       "2                                        0.0   \n",
       "3                                        0.0   \n",
       "4                                        0.0   \n",
       "...                                      ...   \n",
       "329658                                   0.0   \n",
       "329659                                   0.0   \n",
       "329660                                   0.0   \n",
       "329661                                   0.0   \n",
       "329662                                   0.0   \n",
       "\n",
       "        oe_8__RaceEthnicityCategory_Multiracial, Non-Hispanic  \\\n",
       "0                                                     0.0       \n",
       "1                                                     0.0       \n",
       "2                                                     0.0       \n",
       "3                                                     0.0       \n",
       "4                                                     0.0       \n",
       "...                                                   ...       \n",
       "329658                                                1.0       \n",
       "329659                                                0.0       \n",
       "329660                                                0.0       \n",
       "329661                                                0.0       \n",
       "329662                                                0.0       \n",
       "\n",
       "        oe_8__RaceEthnicityCategory_Other race only, Non-Hispanic  \\\n",
       "0                                                     0.0           \n",
       "1                                                     0.0           \n",
       "2                                                     0.0           \n",
       "3                                                     0.0           \n",
       "4                                                     0.0           \n",
       "...                                                   ...           \n",
       "329658                                                0.0           \n",
       "329659                                                0.0           \n",
       "329660                                                0.0           \n",
       "329661                                                0.0           \n",
       "329662                                                0.0           \n",
       "\n",
       "        oe_8__RaceEthnicityCategory_White only, Non-Hispanic  \\\n",
       "0                                                     1.0      \n",
       "1                                                     1.0      \n",
       "2                                                     1.0      \n",
       "3                                                     1.0      \n",
       "4                                                     0.0      \n",
       "...                                                   ...      \n",
       "329658                                                0.0      \n",
       "329659                                                1.0      \n",
       "329660                                                0.0      \n",
       "329661                                                0.0      \n",
       "329662                                                0.0      \n",
       "\n",
       "        remainder__PhysicalHealthDays  remainder__MentalHealthDays  \\\n",
       "0                                 0.0                          0.0   \n",
       "1                                 2.0                          3.0   \n",
       "2                                 2.0                          0.0   \n",
       "3                                 1.0                          0.0   \n",
       "4                                 0.0                          0.0   \n",
       "...                               ...                          ...   \n",
       "329658                            0.0                         15.0   \n",
       "329659                            0.0                          0.0   \n",
       "329660                            2.0                          2.0   \n",
       "329661                            0.0                          0.0   \n",
       "329662                            0.0                          1.0   \n",
       "\n",
       "        remainder__SleepHours  remainder__BMI  \n",
       "0                         6.0           26.57  \n",
       "1                         5.0           25.61  \n",
       "2                         9.0           21.77  \n",
       "3                         7.0           26.08  \n",
       "4                         7.0           22.96  \n",
       "...                       ...             ...  \n",
       "329658                    7.0           29.86  \n",
       "329659                    8.0           31.19  \n",
       "329660                    7.0           28.66  \n",
       "329661                    5.0           32.55  \n",
       "329662                    5.0           22.60  \n",
       "\n",
       "[329663 rows x 26 columns]"
      ]
     },
     "execution_count": 8,
     "metadata": {},
     "output_type": "execute_result"
    }
   ],
   "source": [
    "df"
   ]
  },
  {
   "cell_type": "code",
   "execution_count": 9,
   "metadata": {},
   "outputs": [],
   "source": [
    "X = df.drop(columns=['oe_3_2__HadHeartAttack'])\n",
    "y = df['oe_3_2__HadHeartAttack']"
   ]
  },
  {
   "cell_type": "code",
   "execution_count": 10,
   "metadata": {},
   "outputs": [],
   "source": [
    "X_train, X_test, y_train, y_test = train_test_split(X,y,test_size=0.3,random_state=20231231)"
   ]
  },
  {
   "cell_type": "markdown",
   "metadata": {},
   "source": [
    "# Logistic Regression"
   ]
  },
  {
   "cell_type": "code",
   "execution_count": 11,
   "metadata": {},
   "outputs": [
    {
     "data": {
      "text/html": [
       "<style>#sk-container-id-1 {color: black;}#sk-container-id-1 pre{padding: 0;}#sk-container-id-1 div.sk-toggleable {background-color: white;}#sk-container-id-1 label.sk-toggleable__label {cursor: pointer;display: block;width: 100%;margin-bottom: 0;padding: 0.3em;box-sizing: border-box;text-align: center;}#sk-container-id-1 label.sk-toggleable__label-arrow:before {content: \"▸\";float: left;margin-right: 0.25em;color: #696969;}#sk-container-id-1 label.sk-toggleable__label-arrow:hover:before {color: black;}#sk-container-id-1 div.sk-estimator:hover label.sk-toggleable__label-arrow:before {color: black;}#sk-container-id-1 div.sk-toggleable__content {max-height: 0;max-width: 0;overflow: hidden;text-align: left;background-color: #f0f8ff;}#sk-container-id-1 div.sk-toggleable__content pre {margin: 0.2em;color: black;border-radius: 0.25em;background-color: #f0f8ff;}#sk-container-id-1 input.sk-toggleable__control:checked~div.sk-toggleable__content {max-height: 200px;max-width: 100%;overflow: auto;}#sk-container-id-1 input.sk-toggleable__control:checked~label.sk-toggleable__label-arrow:before {content: \"▾\";}#sk-container-id-1 div.sk-estimator input.sk-toggleable__control:checked~label.sk-toggleable__label {background-color: #d4ebff;}#sk-container-id-1 div.sk-label input.sk-toggleable__control:checked~label.sk-toggleable__label {background-color: #d4ebff;}#sk-container-id-1 input.sk-hidden--visually {border: 0;clip: rect(1px 1px 1px 1px);clip: rect(1px, 1px, 1px, 1px);height: 1px;margin: -1px;overflow: hidden;padding: 0;position: absolute;width: 1px;}#sk-container-id-1 div.sk-estimator {font-family: monospace;background-color: #f0f8ff;border: 1px dotted black;border-radius: 0.25em;box-sizing: border-box;margin-bottom: 0.5em;}#sk-container-id-1 div.sk-estimator:hover {background-color: #d4ebff;}#sk-container-id-1 div.sk-parallel-item::after {content: \"\";width: 100%;border-bottom: 1px solid gray;flex-grow: 1;}#sk-container-id-1 div.sk-label:hover label.sk-toggleable__label {background-color: #d4ebff;}#sk-container-id-1 div.sk-serial::before {content: \"\";position: absolute;border-left: 1px solid gray;box-sizing: border-box;top: 0;bottom: 0;left: 50%;z-index: 0;}#sk-container-id-1 div.sk-serial {display: flex;flex-direction: column;align-items: center;background-color: white;padding-right: 0.2em;padding-left: 0.2em;position: relative;}#sk-container-id-1 div.sk-item {position: relative;z-index: 1;}#sk-container-id-1 div.sk-parallel {display: flex;align-items: stretch;justify-content: center;background-color: white;position: relative;}#sk-container-id-1 div.sk-item::before, #sk-container-id-1 div.sk-parallel-item::before {content: \"\";position: absolute;border-left: 1px solid gray;box-sizing: border-box;top: 0;bottom: 0;left: 50%;z-index: -1;}#sk-container-id-1 div.sk-parallel-item {display: flex;flex-direction: column;z-index: 1;position: relative;background-color: white;}#sk-container-id-1 div.sk-parallel-item:first-child::after {align-self: flex-end;width: 50%;}#sk-container-id-1 div.sk-parallel-item:last-child::after {align-self: flex-start;width: 50%;}#sk-container-id-1 div.sk-parallel-item:only-child::after {width: 0;}#sk-container-id-1 div.sk-dashed-wrapped {border: 1px dashed gray;margin: 0 0.4em 0.5em 0.4em;box-sizing: border-box;padding-bottom: 0.4em;background-color: white;}#sk-container-id-1 div.sk-label label {font-family: monospace;font-weight: bold;display: inline-block;line-height: 1.2em;}#sk-container-id-1 div.sk-label-container {text-align: center;}#sk-container-id-1 div.sk-container {/* jupyter's `normalize.less` sets `[hidden] { display: none; }` but bootstrap.min.css set `[hidden] { display: none !important; }` so we also need the `!important` here to be able to override the default hidden behavior on the sphinx rendered scikit-learn.org. See: https://github.com/scikit-learn/scikit-learn/issues/21755 */display: inline-block !important;position: relative;}#sk-container-id-1 div.sk-text-repr-fallback {display: none;}</style><div id=\"sk-container-id-1\" class=\"sk-top-container\"><div class=\"sk-text-repr-fallback\"><pre>LogisticRegression(random_state=20231231, solver=&#x27;liblinear&#x27;)</pre><b>In a Jupyter environment, please rerun this cell to show the HTML representation or trust the notebook. <br />On GitHub, the HTML representation is unable to render, please try loading this page with nbviewer.org.</b></div><div class=\"sk-container\" hidden><div class=\"sk-item\"><div class=\"sk-estimator sk-toggleable\"><input class=\"sk-toggleable__control sk-hidden--visually\" id=\"sk-estimator-id-1\" type=\"checkbox\" checked><label for=\"sk-estimator-id-1\" class=\"sk-toggleable__label sk-toggleable__label-arrow\">LogisticRegression</label><div class=\"sk-toggleable__content\"><pre>LogisticRegression(random_state=20231231, solver=&#x27;liblinear&#x27;)</pre></div></div></div></div></div>"
      ],
      "text/plain": [
       "LogisticRegression(random_state=20231231, solver='liblinear')"
      ]
     },
     "execution_count": 11,
     "metadata": {},
     "output_type": "execute_result"
    }
   ],
   "source": [
    "model = LogisticRegression(solver='liblinear',random_state=20231231)\n",
    "model.fit(X_train,y_train)"
   ]
  },
  {
   "cell_type": "code",
   "execution_count": 12,
   "metadata": {},
   "outputs": [],
   "source": [
    "y_train_predict = model.predict(X_train)\n",
    "y_test_predict = model.predict(X_test)"
   ]
  },
  {
   "cell_type": "code",
   "execution_count": 13,
   "metadata": {},
   "outputs": [
    {
     "name": "stdout",
     "output_type": "stream",
     "text": [
      "Training Dataset\n",
      "____________________________________________________________\n",
      "                    precision    recall  f1-score   support\n",
      "\n",
      " HadHeartAttack_No       0.96      0.99      0.97    218489\n",
      "HadHeartAttack_Yes       0.56      0.24      0.34     12275\n",
      "\n",
      "          accuracy                           0.95    230764\n",
      "         macro avg       0.76      0.62      0.66    230764\n",
      "      weighted avg       0.94      0.95      0.94    230764\n",
      "\n",
      "____________________________________________________________\n",
      "Training set accuracy: 0.9494\n",
      "____________________________________________________________\n",
      "############################################################\n",
      "Testing Dataset\n",
      "____________________________________________________________\n",
      "                    precision    recall  f1-score   support\n",
      "\n",
      " HadHeartAttack_No       0.96      0.99      0.97     93609\n",
      "HadHeartAttack_Yes       0.58      0.25      0.34      5290\n",
      "\n",
      "          accuracy                           0.95     98899\n",
      "         macro avg       0.77      0.62      0.66     98899\n",
      "      weighted avg       0.94      0.95      0.94     98899\n",
      "\n",
      "____________________________________________________________\n",
      "Testing set accuracy: 0.9500\n",
      "____________________________________________________________\n",
      "############################################################\n"
     ]
    }
   ],
   "source": [
    "print(\"Training Dataset\")\n",
    "print(\"_\"*60)\n",
    "print(classification_report(y_train,y_train_predict,target_names=target_classes))\n",
    "print(\"_\"*60)\n",
    "print(\"Training set accuracy: {:.4f}\".format(model.score(X_train,y_train)))\n",
    "print(\"_\"*60)\n",
    "print(\"#\"*60)\n",
    "print(\"Testing Dataset\")\n",
    "print(\"_\"*60)\n",
    "print(classification_report(y_test,y_test_predict,target_names=target_classes))\n",
    "print(\"_\"*60)\n",
    "print(\"Testing set accuracy: {:.4f}\".format(model.score(X_test,y_test)))\n",
    "print(\"_\"*60)\n",
    "print(\"#\"*60)"
   ]
  },
  {
   "cell_type": "code",
   "execution_count": 14,
   "metadata": {},
   "outputs": [
    {
     "name": "stdout",
     "output_type": "stream",
     "text": [
      "No Skill: ROC AUC=0.500\n",
      "Logistic: ROC AUC=0.884\n"
     ]
    },
    {
     "data": {
      "image/png": "[encoded data removed]",
      "text/plain": [
       "<Figure size 640x480 with 1 Axes>"
      ]
     },
     "metadata": {},
     "output_type": "display_data"
    }
   ],
   "source": [
    "# generate a no skill prediction (majority class)\n",
    "ns_probs = [0 for _ in range(len(y_test))]\n",
    "# predict probabilities\n",
    "lr_probs = model.predict_proba(X_test)\n",
    "# keep probabilities for the positive outcome only\n",
    "lr_probs = lr_probs[:,1]\n",
    "# calculate scores\n",
    "ns_auc = roc_auc_score(y_test, ns_probs)\n",
    "lr_auc = roc_auc_score(y_test, lr_probs)\n",
    "# summarize scores\n",
    "print('No Skill: ROC AUC=%.3f' % (ns_auc))\n",
    "print('Logistic: ROC AUC=%.3f' % (lr_auc))\n",
    "# calculate roc curves\n",
    "ns_fpr, ns_tpr, _ = roc_curve(y_test, ns_probs)\n",
    "lr_fpr, lr_tpr, _ = roc_curve(y_test, lr_probs)\n",
    "# plot the roc curve for the model\n",
    "plt.plot(ns_fpr, ns_tpr, linestyle='--', label='No Skill')\n",
    "plt.plot(lr_fpr, lr_tpr, marker='.', label='Logistic')\n",
    "# axis labels\n",
    "plt.xlabel('False Positive Rate')\n",
    "plt.ylabel('True Positive Rate')\n",
    "# show the legend\n",
    "plt.legend()\n",
    "# show the plot\n",
    "plt.show()"
   ]
  },
  {
   "cell_type": "code",
   "execution_count": 15,
   "metadata": {},
   "outputs": [
    {
     "data": {
      "text/plain": [
       "<Axes: >"
      ]
     },
     "execution_count": 15,
     "metadata": {},
     "output_type": "execute_result"
    },
    {
     "data": {
      "image/png": "[encoded data removed]",
      "text/plain": [
       "<Figure size 600x400 with 2 Axes>"
      ]
     },
     "metadata": {},
     "output_type": "display_data"
    }
   ],
   "source": [
    "cm = confusion_matrix(y_test,y_test_predict)\n",
    "# cm\n",
    "plt.figure(figsize=(6,4))\n",
    "cm_matrix = pd.DataFrame(data=cm,columns=['Predict Negative:0', 'Predict Positive:1'],\n",
    "                                index=['Actual Negative:0', 'Actual Positive:1'])\n",
    "\n",
    "sns.heatmap(cm_matrix, annot=True, fmt='d', cmap='YlGnBu')"
   ]
  },
  {
   "cell_type": "markdown",
   "metadata": {},
   "source": [
    "## Balanced Bagging"
   ]
  },
  {
   "cell_type": "code",
   "execution_count": 16,
   "metadata": {},
   "outputs": [],
   "source": [
    "bbc = BalancedBaggingClassifier(estimator=LogisticRegression(solver='liblinear'),\n",
    "                                sampling_strategy='auto',\n",
    "                                replacement=False,\n",
    "                                random_state=20231231)"
   ]
  },
  {
   "cell_type": "code",
   "execution_count": 17,
   "metadata": {},
   "outputs": [
    {
     "data": {
      "text/html": [
       "<style>#sk-container-id-2 {color: black;}#sk-container-id-2 pre{padding: 0;}#sk-container-id-2 div.sk-toggleable {background-color: white;}#sk-container-id-2 label.sk-toggleable__label {cursor: pointer;display: block;width: 100%;margin-bottom: 0;padding: 0.3em;box-sizing: border-box;text-align: center;}#sk-container-id-2 label.sk-toggleable__label-arrow:before {content: \"▸\";float: left;margin-right: 0.25em;color: #696969;}#sk-container-id-2 label.sk-toggleable__label-arrow:hover:before {color: black;}#sk-container-id-2 div.sk-estimator:hover label.sk-toggleable__label-arrow:before {color: black;}#sk-container-id-2 div.sk-toggleable__content {max-height: 0;max-width: 0;overflow: hidden;text-align: left;background-color: #f0f8ff;}#sk-container-id-2 div.sk-toggleable__content pre {margin: 0.2em;color: black;border-radius: 0.25em;background-color: #f0f8ff;}#sk-container-id-2 input.sk-toggleable__control:checked~div.sk-toggleable__content {max-height: 200px;max-width: 100%;overflow: auto;}#sk-container-id-2 input.sk-toggleable__control:checked~label.sk-toggleable__label-arrow:before {content: \"▾\";}#sk-container-id-2 div.sk-estimator input.sk-toggleable__control:checked~label.sk-toggleable__label {background-color: #d4ebff;}#sk-container-id-2 div.sk-label input.sk-toggleable__control:checked~label.sk-toggleable__label {background-color: #d4ebff;}#sk-container-id-2 input.sk-hidden--visually {border: 0;clip: rect(1px 1px 1px 1px);clip: rect(1px, 1px, 1px, 1px);height: 1px;margin: -1px;overflow: hidden;padding: 0;position: absolute;width: 1px;}#sk-container-id-2 div.sk-estimator {font-family: monospace;background-color: #f0f8ff;border: 1px dotted black;border-radius: 0.25em;box-sizing: border-box;margin-bottom: 0.5em;}#sk-container-id-2 div.sk-estimator:hover {background-color: #d4ebff;}#sk-container-id-2 div.sk-parallel-item::after {content: \"\";width: 100%;border-bottom: 1px solid gray;flex-grow: 1;}#sk-container-id-2 div.sk-label:hover label.sk-toggleable__label {background-color: #d4ebff;}#sk-container-id-2 div.sk-serial::before {content: \"\";position: absolute;border-left: 1px solid gray;box-sizing: border-box;top: 0;bottom: 0;left: 50%;z-index: 0;}#sk-container-id-2 div.sk-serial {display: flex;flex-direction: column;align-items: center;background-color: white;padding-right: 0.2em;padding-left: 0.2em;position: relative;}#sk-container-id-2 div.sk-item {position: relative;z-index: 1;}#sk-container-id-2 div.sk-parallel {display: flex;align-items: stretch;justify-content: center;background-color: white;position: relative;}#sk-container-id-2 div.sk-item::before, #sk-container-id-2 div.sk-parallel-item::before {content: \"\";position: absolute;border-left: 1px solid gray;box-sizing: border-box;top: 0;bottom: 0;left: 50%;z-index: -1;}#sk-container-id-2 div.sk-parallel-item {display: flex;flex-direction: column;z-index: 1;position: relative;background-color: white;}#sk-container-id-2 div.sk-parallel-item:first-child::after {align-self: flex-end;width: 50%;}#sk-container-id-2 div.sk-parallel-item:last-child::after {align-self: flex-start;width: 50%;}#sk-container-id-2 div.sk-parallel-item:only-child::after {width: 0;}#sk-container-id-2 div.sk-dashed-wrapped {border: 1px dashed gray;margin: 0 0.4em 0.5em 0.4em;box-sizing: border-box;padding-bottom: 0.4em;background-color: white;}#sk-container-id-2 div.sk-label label {font-family: monospace;font-weight: bold;display: inline-block;line-height: 1.2em;}#sk-container-id-2 div.sk-label-container {text-align: center;}#sk-container-id-2 div.sk-container {/* jupyter's `normalize.less` sets `[hidden] { display: none; }` but bootstrap.min.css set `[hidden] { display: none !important; }` so we also need the `!important` here to be able to override the default hidden behavior on the sphinx rendered scikit-learn.org. See: https://github.com/scikit-learn/scikit-learn/issues/21755 */display: inline-block !important;position: relative;}#sk-container-id-2 div.sk-text-repr-fallback {display: none;}</style><div id=\"sk-container-id-2\" class=\"sk-top-container\"><div class=\"sk-text-repr-fallback\"><pre>BalancedBaggingClassifier(estimator=LogisticRegression(solver=&#x27;liblinear&#x27;),\n",
       "                          random_state=20231231)</pre><b>In a Jupyter environment, please rerun this cell to show the HTML representation or trust the notebook. <br />On GitHub, the HTML representation is unable to render, please try loading this page with nbviewer.org.</b></div><div class=\"sk-container\" hidden><div class=\"sk-item sk-dashed-wrapped\"><div class=\"sk-label-container\"><div class=\"sk-label sk-toggleable\"><input class=\"sk-toggleable__control sk-hidden--visually\" id=\"sk-estimator-id-2\" type=\"checkbox\" ><label for=\"sk-estimator-id-2\" class=\"sk-toggleable__label sk-toggleable__label-arrow\">BalancedBaggingClassifier</label><div class=\"sk-toggleable__content\"><pre>BalancedBaggingClassifier(estimator=LogisticRegression(solver=&#x27;liblinear&#x27;),\n",
       "                          random_state=20231231)</pre></div></div></div><div class=\"sk-parallel\"><div class=\"sk-parallel-item\"><div class=\"sk-item\"><div class=\"sk-label-container\"><div class=\"sk-label sk-toggleable\"><input class=\"sk-toggleable__control sk-hidden--visually\" id=\"sk-estimator-id-3\" type=\"checkbox\" ><label for=\"sk-estimator-id-3\" class=\"sk-toggleable__label sk-toggleable__label-arrow\">estimator: LogisticRegression</label><div class=\"sk-toggleable__content\"><pre>LogisticRegression(solver=&#x27;liblinear&#x27;)</pre></div></div></div><div class=\"sk-serial\"><div class=\"sk-item\"><div class=\"sk-estimator sk-toggleable\"><input class=\"sk-toggleable__control sk-hidden--visually\" id=\"sk-estimator-id-4\" type=\"checkbox\" ><label for=\"sk-estimator-id-4\" class=\"sk-toggleable__label sk-toggleable__label-arrow\">LogisticRegression</label><div class=\"sk-toggleable__content\"><pre>LogisticRegression(solver=&#x27;liblinear&#x27;)</pre></div></div></div></div></div></div></div></div></div></div>"
      ],
      "text/plain": [
       "BalancedBaggingClassifier(estimator=LogisticRegression(solver='liblinear'),\n",
       "                          random_state=20231231)"
      ]
     },
     "execution_count": 17,
     "metadata": {},
     "output_type": "execute_result"
    }
   ],
   "source": [
    "bbc.fit(X_train,y_train)"
   ]
  },
  {
   "cell_type": "code",
   "execution_count": 18,
   "metadata": {},
   "outputs": [],
   "source": [
    "y_train_predict = bbc.predict(X_train)\n",
    "y_test_predict = bbc.predict(X_test)"
   ]
  },
  {
   "cell_type": "code",
   "execution_count": 19,
   "metadata": {},
   "outputs": [
    {
     "name": "stdout",
     "output_type": "stream",
     "text": [
      "Training Dataset\n",
      "____________________________________________________________\n",
      "                    precision    recall  f1-score   support\n",
      "\n",
      " HadHeartAttack_No       0.98      0.84      0.91    218489\n",
      "HadHeartAttack_Yes       0.21      0.76      0.33     12275\n",
      "\n",
      "          accuracy                           0.84    230764\n",
      "         macro avg       0.60      0.80      0.62    230764\n",
      "      weighted avg       0.94      0.84      0.88    230764\n",
      "\n",
      "____________________________________________________________\n",
      "Training set accuracy: 0.8373\n",
      "____________________________________________________________\n",
      "############################################################\n",
      "Testing Dataset\n",
      "____________________________________________________________\n",
      "                    precision    recall  f1-score   support\n",
      "\n",
      " HadHeartAttack_No       0.98      0.84      0.91     93609\n",
      "HadHeartAttack_Yes       0.22      0.76      0.34      5290\n",
      "\n",
      "          accuracy                           0.84     98899\n",
      "         macro avg       0.60      0.80      0.62     98899\n",
      "      weighted avg       0.94      0.84      0.88     98899\n",
      "\n",
      "____________________________________________________________\n",
      "Testing set accuracy: 0.8396\n",
      "____________________________________________________________\n",
      "############################################################\n"
     ]
    }
   ],
   "source": [
    "print(\"Training Dataset\")\n",
    "print(\"_\"*60)\n",
    "print(classification_report(y_train,y_train_predict,target_names=target_classes))\n",
    "print(\"_\"*60)\n",
    "print(\"Training set accuracy: {:.4f}\".format(bbc.score(X_train,y_train)))\n",
    "print(\"_\"*60)\n",
    "print(\"#\"*60)\n",
    "print(\"Testing Dataset\")\n",
    "print(\"_\"*60)\n",
    "print(classification_report(y_test,y_test_predict,target_names=target_classes))\n",
    "print(\"_\"*60)\n",
    "print(\"Testing set accuracy: {:.4f}\".format(bbc.score(X_test,y_test)))\n",
    "print(\"_\"*60)\n",
    "print(\"#\"*60)"
   ]
  },
  {
   "cell_type": "code",
   "execution_count": 20,
   "metadata": {},
   "outputs": [
    {
     "name": "stdout",
     "output_type": "stream",
     "text": [
      "No Skill: ROC AUC=0.500\n",
      "Logistic: ROC AUC=0.885\n"
     ]
    },
    {
     "data": {
      "image/png": "[encoded data removed]",
      "text/plain": [
       "<Figure size 640x480 with 1 Axes>"
      ]
     },
     "metadata": {},
     "output_type": "display_data"
    }
   ],
   "source": [
    "# generate a no skill prediction (majority class)\n",
    "ns_probs = [0 for _ in range(len(y_test))]\n",
    "# predict probabilities\n",
    "lr_probs = bbc.predict_proba(X_test)\n",
    "# keep probabilities for the positive outcome only\n",
    "lr_probs = lr_probs[:,1]\n",
    "# calculate scores\n",
    "ns_auc = roc_auc_score(y_test, ns_probs)\n",
    "lr_auc = roc_auc_score(y_test, lr_probs)\n",
    "# summarize scores\n",
    "print('No Skill: ROC AUC=%.3f' % (ns_auc))\n",
    "print('Logistic: ROC AUC=%.3f' % (lr_auc))\n",
    "# calculate roc curves\n",
    "ns_fpr, ns_tpr, _ = roc_curve(y_test, ns_probs)\n",
    "lr_fpr, lr_tpr, _ = roc_curve(y_test, lr_probs)\n",
    "# plot the roc curve for the model\n",
    "plt.plot(ns_fpr, ns_tpr, linestyle='--', label='No Skill')\n",
    "plt.plot(lr_fpr, lr_tpr, marker='.', label='Logistic')\n",
    "# axis labels\n",
    "plt.xlabel('False Positive Rate')\n",
    "plt.ylabel('True Positive Rate')\n",
    "# show the legend\n",
    "plt.legend()\n",
    "# show the plot\n",
    "plt.show()"
   ]
  },
  {
   "cell_type": "code",
   "execution_count": 21,
   "metadata": {},
   "outputs": [
    {
     "data": {
      "text/plain": [
       "<Axes: >"
      ]
     },
     "execution_count": 21,
     "metadata": {},
     "output_type": "execute_result"
    },
    {
     "data": {
      "image/png": "[encoded data removed]",
      "text/plain": [
       "<Figure size 600x400 with 2 Axes>"
      ]
     },
     "metadata": {},
     "output_type": "display_data"
    }
   ],
   "source": [
    "cm = confusion_matrix(y_test,y_test_predict)\n",
    "# cm\n",
    "plt.figure(figsize=(6,4))\n",
    "cm_matrix = pd.DataFrame(data=cm,columns=['Predict Negative:0', 'Predict Positive:1'],\n",
    "                                index=['Actual Negative:0', 'Actual Positive:1'])\n",
    "\n",
    "sns.heatmap(cm_matrix, annot=True, fmt='d', cmap='YlGnBu')"
   ]
  },
  {
   "cell_type": "markdown",
   "metadata": {},
   "source": [
    "## Hyperparameter Tuning\n",
    "- ROC AUC and Recall"
   ]
  },
  {
   "cell_type": "code",
   "execution_count": 22,
   "metadata": {},
   "outputs": [],
   "source": [
    "# define parameters\n",
    "solvers = ['lbfgs','liblinear','newton-cg','newton-cholesky','sag','saga']\n",
    "penalty = ['l2']\n",
    "c_values = [100, 10, 1.0, 0.1, 0.01]\n",
    "met_grid = ['precision','recall','f1','roc_auc']"
   ]
  },
  {
   "cell_type": "code",
   "execution_count": 23,
   "metadata": {},
   "outputs": [],
   "source": [
    "# define grid search\n",
    "# grid = dict(solver=solvers,penalty=penalty,C=c_values)\n",
    "# grid = {\n",
    "#     'estimator__solver':solvers,\n",
    "#     'estimator__penalty':penalty,\n",
    "#     'estimator__C':c_values\n",
    "# }\n",
    "# cv = RepeatedStratifiedKFold(n_splits=5,n_repeats=3,random_state=20231231)\n",
    "# grid_search = GridSearchCV(estimator=bbc,param_grid=grid,n_jobs=-1,cv=cv,scoring=met_grid,refit='recall')\n",
    "# grid_result = grid_search.fit(X_train, y_train)"
   ]
  },
  {
   "cell_type": "code",
   "execution_count": 24,
   "metadata": {},
   "outputs": [],
   "source": [
    "# summarize results\n",
    "# print(\"Best: %f using %s\" % (grid_result.best_score_, grid_result.best_params_))\n",
    "# mean_recall = grid_result.cv_results_['mean_test_recall']\n",
    "# std_recall = grid_result.cv_results_['std_test_recall']\n",
    "# mean_roc_auc = grid_result.cv_results_['mean_test_roc_auc']\n",
    "# std_roc_auc = grid_result.cv_results_['std_test_roc_auc']\n",
    "# rank_test_recall = grid_result.cv_results_['rank_test_recall']\n",
    "# params = grid_result.cv_results_['params']\n",
    "# for rank_test_recall, mean_recall, std_recall, mean_roc_auc, std_roc_auc, params in zip(rank_test_recall, mean_recall, std_recall, mean_roc_auc, std_roc_auc, params):\n",
    "#     print(\"Rank: %i, Recall: %f (%f), ROC AUC: %f (%f) with: %r\" % (rank_test_recall, mean_recall, std_recall, mean_roc_auc, std_roc_auc, params))\n",
    "# grid_result.cv_results_"
   ]
  },
  {
   "cell_type": "markdown",
   "metadata": {},
   "source": [
    "## Tuned Model"
   ]
  },
  {
   "cell_type": "code",
   "execution_count": 25,
   "metadata": {},
   "outputs": [],
   "source": [
    "bbc = BalancedBaggingClassifier(estimator=LogisticRegression(solver='newton-cg',penalty='l2',C=0.01),\n",
    "                                sampling_strategy='auto',\n",
    "                                replacement=False,\n",
    "                                random_state=20231231)"
   ]
  },
  {
   "cell_type": "code",
   "execution_count": 26,
   "metadata": {},
   "outputs": [
    {
     "data": {
      "text/html": [
       "<style>#sk-container-id-3 {color: black;}#sk-container-id-3 pre{padding: 0;}#sk-container-id-3 div.sk-toggleable {background-color: white;}#sk-container-id-3 label.sk-toggleable__label {cursor: pointer;display: block;width: 100%;margin-bottom: 0;padding: 0.3em;box-sizing: border-box;text-align: center;}#sk-container-id-3 label.sk-toggleable__label-arrow:before {content: \"▸\";float: left;margin-right: 0.25em;color: #696969;}#sk-container-id-3 label.sk-toggleable__label-arrow:hover:before {color: black;}#sk-container-id-3 div.sk-estimator:hover label.sk-toggleable__label-arrow:before {color: black;}#sk-container-id-3 div.sk-toggleable__content {max-height: 0;max-width: 0;overflow: hidden;text-align: left;background-color: #f0f8ff;}#sk-container-id-3 div.sk-toggleable__content pre {margin: 0.2em;color: black;border-radius: 0.25em;background-color: #f0f8ff;}#sk-container-id-3 input.sk-toggleable__control:checked~div.sk-toggleable__content {max-height: 200px;max-width: 100%;overflow: auto;}#sk-container-id-3 input.sk-toggleable__control:checked~label.sk-toggleable__label-arrow:before {content: \"▾\";}#sk-container-id-3 div.sk-estimator input.sk-toggleable__control:checked~label.sk-toggleable__label {background-color: #d4ebff;}#sk-container-id-3 div.sk-label input.sk-toggleable__control:checked~label.sk-toggleable__label {background-color: #d4ebff;}#sk-container-id-3 input.sk-hidden--visually {border: 0;clip: rect(1px 1px 1px 1px);clip: rect(1px, 1px, 1px, 1px);height: 1px;margin: -1px;overflow: hidden;padding: 0;position: absolute;width: 1px;}#sk-container-id-3 div.sk-estimator {font-family: monospace;background-color: #f0f8ff;border: 1px dotted black;border-radius: 0.25em;box-sizing: border-box;margin-bottom: 0.5em;}#sk-container-id-3 div.sk-estimator:hover {background-color: #d4ebff;}#sk-container-id-3 div.sk-parallel-item::after {content: \"\";width: 100%;border-bottom: 1px solid gray;flex-grow: 1;}#sk-container-id-3 div.sk-label:hover label.sk-toggleable__label {background-color: #d4ebff;}#sk-container-id-3 div.sk-serial::before {content: \"\";position: absolute;border-left: 1px solid gray;box-sizing: border-box;top: 0;bottom: 0;left: 50%;z-index: 0;}#sk-container-id-3 div.sk-serial {display: flex;flex-direction: column;align-items: center;background-color: white;padding-right: 0.2em;padding-left: 0.2em;position: relative;}#sk-container-id-3 div.sk-item {position: relative;z-index: 1;}#sk-container-id-3 div.sk-parallel {display: flex;align-items: stretch;justify-content: center;background-color: white;position: relative;}#sk-container-id-3 div.sk-item::before, #sk-container-id-3 div.sk-parallel-item::before {content: \"\";position: absolute;border-left: 1px solid gray;box-sizing: border-box;top: 0;bottom: 0;left: 50%;z-index: -1;}#sk-container-id-3 div.sk-parallel-item {display: flex;flex-direction: column;z-index: 1;position: relative;background-color: white;}#sk-container-id-3 div.sk-parallel-item:first-child::after {align-self: flex-end;width: 50%;}#sk-container-id-3 div.sk-parallel-item:last-child::after {align-self: flex-start;width: 50%;}#sk-container-id-3 div.sk-parallel-item:only-child::after {width: 0;}#sk-container-id-3 div.sk-dashed-wrapped {border: 1px dashed gray;margin: 0 0.4em 0.5em 0.4em;box-sizing: border-box;padding-bottom: 0.4em;background-color: white;}#sk-container-id-3 div.sk-label label {font-family: monospace;font-weight: bold;display: inline-block;line-height: 1.2em;}#sk-container-id-3 div.sk-label-container {text-align: center;}#sk-container-id-3 div.sk-container {/* jupyter's `normalize.less` sets `[hidden] { display: none; }` but bootstrap.min.css set `[hidden] { display: none !important; }` so we also need the `!important` here to be able to override the default hidden behavior on the sphinx rendered scikit-learn.org. See: https://github.com/scikit-learn/scikit-learn/issues/21755 */display: inline-block !important;position: relative;}#sk-container-id-3 div.sk-text-repr-fallback {display: none;}</style><div id=\"sk-container-id-3\" class=\"sk-top-container\"><div class=\"sk-text-repr-fallback\"><pre>BalancedBaggingClassifier(estimator=LogisticRegression(C=0.01,\n",
       "                                                       solver=&#x27;newton-cg&#x27;),\n",
       "                          random_state=20231231)</pre><b>In a Jupyter environment, please rerun this cell to show the HTML representation or trust the notebook. <br />On GitHub, the HTML representation is unable to render, please try loading this page with nbviewer.org.</b></div><div class=\"sk-container\" hidden><div class=\"sk-item sk-dashed-wrapped\"><div class=\"sk-label-container\"><div class=\"sk-label sk-toggleable\"><input class=\"sk-toggleable__control sk-hidden--visually\" id=\"sk-estimator-id-5\" type=\"checkbox\" ><label for=\"sk-estimator-id-5\" class=\"sk-toggleable__label sk-toggleable__label-arrow\">BalancedBaggingClassifier</label><div class=\"sk-toggleable__content\"><pre>BalancedBaggingClassifier(estimator=LogisticRegression(C=0.01,\n",
       "                                                       solver=&#x27;newton-cg&#x27;),\n",
       "                          random_state=20231231)</pre></div></div></div><div class=\"sk-parallel\"><div class=\"sk-parallel-item\"><div class=\"sk-item\"><div class=\"sk-label-container\"><div class=\"sk-label sk-toggleable\"><input class=\"sk-toggleable__control sk-hidden--visually\" id=\"sk-estimator-id-6\" type=\"checkbox\" ><label for=\"sk-estimator-id-6\" class=\"sk-toggleable__label sk-toggleable__label-arrow\">estimator: LogisticRegression</label><div class=\"sk-toggleable__content\"><pre>LogisticRegression(C=0.01, solver=&#x27;newton-cg&#x27;)</pre></div></div></div><div class=\"sk-serial\"><div class=\"sk-item\"><div class=\"sk-estimator sk-toggleable\"><input class=\"sk-toggleable__control sk-hidden--visually\" id=\"sk-estimator-id-7\" type=\"checkbox\" ><label for=\"sk-estimator-id-7\" class=\"sk-toggleable__label sk-toggleable__label-arrow\">LogisticRegression</label><div class=\"sk-toggleable__content\"><pre>LogisticRegression(C=0.01, solver=&#x27;newton-cg&#x27;)</pre></div></div></div></div></div></div></div></div></div></div>"
      ],
      "text/plain": [
       "BalancedBaggingClassifier(estimator=LogisticRegression(C=0.01,\n",
       "                                                       solver='newton-cg'),\n",
       "                          random_state=20231231)"
      ]
     },
     "execution_count": 26,
     "metadata": {},
     "output_type": "execute_result"
    }
   ],
   "source": [
    "bbc.fit(X_train,y_train)"
   ]
  },
  {
   "cell_type": "code",
   "execution_count": 27,
   "metadata": {},
   "outputs": [],
   "source": [
    "y_train_predict = bbc.predict(X_train)\n",
    "y_test_predict = bbc.predict(X_test)"
   ]
  },
  {
   "cell_type": "code",
   "execution_count": 28,
   "metadata": {},
   "outputs": [
    {
     "name": "stdout",
     "output_type": "stream",
     "text": [
      "Training Dataset\n",
      "____________________________________________________________\n",
      "                    precision    recall  f1-score   support\n",
      "\n",
      " HadHeartAttack_No       0.98      0.83      0.90    218489\n",
      "HadHeartAttack_Yes       0.20      0.77      0.32     12275\n",
      "\n",
      "          accuracy                           0.82    230764\n",
      "         macro avg       0.59      0.80      0.61    230764\n",
      "      weighted avg       0.94      0.82      0.87    230764\n",
      "\n",
      "____________________________________________________________\n",
      "Training set accuracy: 0.8248\n",
      "____________________________________________________________\n",
      "############################################################\n",
      "Testing Dataset\n",
      "____________________________________________________________\n",
      "                    precision    recall  f1-score   support\n",
      "\n",
      " HadHeartAttack_No       0.98      0.83      0.90     93609\n",
      "HadHeartAttack_Yes       0.20      0.77      0.32      5290\n",
      "\n",
      "          accuracy                           0.83     98899\n",
      "         macro avg       0.59      0.80      0.61     98899\n",
      "      weighted avg       0.94      0.83      0.87     98899\n",
      "\n",
      "____________________________________________________________\n",
      "Testing set accuracy: 0.8269\n",
      "____________________________________________________________\n",
      "############################################################\n"
     ]
    }
   ],
   "source": [
    "print(\"Training Dataset\")\n",
    "print(\"_\"*60)\n",
    "print(classification_report(y_train,y_train_predict,target_names=target_classes))\n",
    "print(\"_\"*60)\n",
    "print(\"Training set accuracy: {:.4f}\".format(bbc.score(X_train,y_train)))\n",
    "print(\"_\"*60)\n",
    "print(\"#\"*60)\n",
    "print(\"Testing Dataset\")\n",
    "print(\"_\"*60)\n",
    "print(classification_report(y_test,y_test_predict,target_names=target_classes))\n",
    "print(\"_\"*60)\n",
    "print(\"Testing set accuracy: {:.4f}\".format(bbc.score(X_test,y_test)))\n",
    "print(\"_\"*60)\n",
    "print(\"#\"*60)"
   ]
  },
  {
   "cell_type": "code",
   "execution_count": 29,
   "metadata": {},
   "outputs": [
    {
     "name": "stdout",
     "output_type": "stream",
     "text": [
      "No Skill: ROC AUC=0.500\n",
      "Logistic: ROC AUC=0.883\n"
     ]
    },
    {
     "data": {
      "image/png": "[encoded data removed]",
      "text/plain": [
       "<Figure size 640x480 with 1 Axes>"
      ]
     },
     "metadata": {},
     "output_type": "display_data"
    }
   ],
   "source": [
    "# generate a no skill prediction (majority class)\n",
    "ns_probs = [0 for _ in range(len(y_test))]\n",
    "# predict probabilities\n",
    "lr_probs = bbc.predict_proba(X_test)\n",
    "# keep probabilities for the positive outcome only\n",
    "lr_probs = lr_probs[:,1]\n",
    "# calculate scores\n",
    "ns_auc = roc_auc_score(y_test, ns_probs)\n",
    "lr_auc = roc_auc_score(y_test, lr_probs)\n",
    "# summarize scores\n",
    "print('No Skill: ROC AUC=%.3f' % (ns_auc))\n",
    "print('Logistic: ROC AUC=%.3f' % (lr_auc))\n",
    "# calculate roc curves\n",
    "ns_fpr, ns_tpr, _ = roc_curve(y_test, ns_probs)\n",
    "lr_fpr, lr_tpr, _ = roc_curve(y_test, lr_probs)\n",
    "# plot the roc curve for the model\n",
    "plt.plot(ns_fpr, ns_tpr, linestyle='--', label='No Skill')\n",
    "plt.plot(lr_fpr, lr_tpr, marker='.', label='Logistic')\n",
    "# axis labels\n",
    "plt.xlabel('False Positive Rate')\n",
    "plt.ylabel('True Positive Rate')\n",
    "# show the legend\n",
    "plt.legend()\n",
    "# show the plot\n",
    "plt.show()"
   ]
  },
  {
   "cell_type": "code",
   "execution_count": 30,
   "metadata": {},
   "outputs": [
    {
     "data": {
      "text/plain": [
       "<Axes: >"
      ]
     },
     "execution_count": 30,
     "metadata": {},
     "output_type": "execute_result"
    },
    {
     "data": {
      "image/png": "[encoded data removed]",
      "text/plain": [
       "<Figure size 600x400 with 2 Axes>"
      ]
     },
     "metadata": {},
     "output_type": "display_data"
    }
   ],
   "source": [
    "cm = confusion_matrix(y_test,y_test_predict)\n",
    "# cm\n",
    "plt.figure(figsize=(6,4))\n",
    "cm_matrix = pd.DataFrame(data=cm,columns=['Predict Negative:0', 'Predict Positive:1'],\n",
    "                                index=['Actual Negative:0', 'Actual Positive:1'])\n",
    "\n",
    "sns.heatmap(cm_matrix, annot=True, fmt='d', cmap='YlGnBu')"
   ]
  },
  {
   "cell_type": "code",
   "execution_count": 31,
   "metadata": {},
   "outputs": [
    {
     "data": {
      "text/plain": [
       "5290.0"
      ]
     },
     "execution_count": 31,
     "metadata": {},
     "output_type": "execute_result"
    }
   ],
   "source": [
    "np.sum(y_test)"
   ]
  },
  {
   "cell_type": "code",
   "execution_count": 32,
   "metadata": {},
   "outputs": [
    {
     "data": {
      "text/plain": [
       "19942.0"
      ]
     },
     "execution_count": 32,
     "metadata": {},
     "output_type": "execute_result"
    }
   ],
   "source": [
    "np.sum(y_test_predict)"
   ]
  },
  {
   "cell_type": "markdown",
   "metadata": {},
   "source": [
    "# Selected Features"
   ]
  },
  {
   "cell_type": "code",
   "execution_count": 37,
   "metadata": {},
   "outputs": [
    {
     "data": {
      "text/html": [
       "<div>\n",
       "<style scoped>\n",
       "    .dataframe tbody tr th:only-of-type {\n",
       "        vertical-align: middle;\n",
       "    }\n",
       "\n",
       "    .dataframe tbody tr th {\n",
       "        vertical-align: top;\n",
       "    }\n",
       "\n",
       "    .dataframe thead th {\n",
       "        text-align: right;\n",
       "    }\n",
       "</style>\n",
       "<table border=\"1\" class=\"dataframe\">\n",
       "  <thead>\n",
       "    <tr style=\"text-align: right;\">\n",
       "      <th></th>\n",
       "      <th>oe_1__Sex</th>\n",
       "      <th>oe_2__GeneralHealth</th>\n",
       "      <th>oe_3_1__PhysicalActivities</th>\n",
       "      <th>oe_3_3__HadAngina</th>\n",
       "      <th>oe_3_10__HadArthritis</th>\n",
       "      <th>oe_3_11__AlcoholDrinkers</th>\n",
       "      <th>oe_4__HadDiabetes</th>\n",
       "      <th>oe_5__AgeCategory</th>\n",
       "      <th>oe_6__SmokerStatus</th>\n",
       "      <th>oe_8__RaceEthnicityCategory_White only, Non-Hispanic</th>\n",
       "      <th>remainder__SleepHours</th>\n",
       "      <th>oe_3_2__HadHeartAttack</th>\n",
       "    </tr>\n",
       "  </thead>\n",
       "  <tbody>\n",
       "    <tr>\n",
       "      <th>0</th>\n",
       "      <td>1.0</td>\n",
       "      <td>2.0</td>\n",
       "      <td>1.0</td>\n",
       "      <td>0.0</td>\n",
       "      <td>0.0</td>\n",
       "      <td>0.0</td>\n",
       "      <td>0.0</td>\n",
       "      <td>4.0</td>\n",
       "      <td>0.0</td>\n",
       "      <td>0.0</td>\n",
       "      <td>6.0</td>\n",
       "      <td>0.0</td>\n",
       "    </tr>\n",
       "    <tr>\n",
       "      <th>1</th>\n",
       "      <td>0.0</td>\n",
       "      <td>3.0</td>\n",
       "      <td>1.0</td>\n",
       "      <td>0.0</td>\n",
       "      <td>0.0</td>\n",
       "      <td>1.0</td>\n",
       "      <td>0.0</td>\n",
       "      <td>3.0</td>\n",
       "      <td>1.0</td>\n",
       "      <td>1.0</td>\n",
       "      <td>7.0</td>\n",
       "      <td>0.0</td>\n",
       "    </tr>\n",
       "    <tr>\n",
       "      <th>2</th>\n",
       "      <td>0.0</td>\n",
       "      <td>2.0</td>\n",
       "      <td>0.0</td>\n",
       "      <td>0.0</td>\n",
       "      <td>1.0</td>\n",
       "      <td>0.0</td>\n",
       "      <td>0.0</td>\n",
       "      <td>11.0</td>\n",
       "      <td>1.0</td>\n",
       "      <td>0.0</td>\n",
       "      <td>8.0</td>\n",
       "      <td>0.0</td>\n",
       "    </tr>\n",
       "    <tr>\n",
       "      <th>3</th>\n",
       "      <td>1.0</td>\n",
       "      <td>4.0</td>\n",
       "      <td>1.0</td>\n",
       "      <td>0.0</td>\n",
       "      <td>0.0</td>\n",
       "      <td>1.0</td>\n",
       "      <td>0.0</td>\n",
       "      <td>1.0</td>\n",
       "      <td>0.0</td>\n",
       "      <td>1.0</td>\n",
       "      <td>7.0</td>\n",
       "      <td>0.0</td>\n",
       "    </tr>\n",
       "    <tr>\n",
       "      <th>4</th>\n",
       "      <td>1.0</td>\n",
       "      <td>0.0</td>\n",
       "      <td>0.0</td>\n",
       "      <td>0.0</td>\n",
       "      <td>1.0</td>\n",
       "      <td>0.0</td>\n",
       "      <td>3.0</td>\n",
       "      <td>8.0</td>\n",
       "      <td>0.0</td>\n",
       "      <td>1.0</td>\n",
       "      <td>16.0</td>\n",
       "      <td>1.0</td>\n",
       "    </tr>\n",
       "    <tr>\n",
       "      <th>...</th>\n",
       "      <td>...</td>\n",
       "      <td>...</td>\n",
       "      <td>...</td>\n",
       "      <td>...</td>\n",
       "      <td>...</td>\n",
       "      <td>...</td>\n",
       "      <td>...</td>\n",
       "      <td>...</td>\n",
       "      <td>...</td>\n",
       "      <td>...</td>\n",
       "      <td>...</td>\n",
       "      <td>...</td>\n",
       "    </tr>\n",
       "    <tr>\n",
       "      <th>329658</th>\n",
       "      <td>0.0</td>\n",
       "      <td>2.0</td>\n",
       "      <td>0.0</td>\n",
       "      <td>0.0</td>\n",
       "      <td>1.0</td>\n",
       "      <td>1.0</td>\n",
       "      <td>0.0</td>\n",
       "      <td>12.0</td>\n",
       "      <td>1.0</td>\n",
       "      <td>1.0</td>\n",
       "      <td>12.0</td>\n",
       "      <td>1.0</td>\n",
       "    </tr>\n",
       "    <tr>\n",
       "      <th>329659</th>\n",
       "      <td>1.0</td>\n",
       "      <td>2.0</td>\n",
       "      <td>1.0</td>\n",
       "      <td>0.0</td>\n",
       "      <td>1.0</td>\n",
       "      <td>0.0</td>\n",
       "      <td>0.0</td>\n",
       "      <td>3.0</td>\n",
       "      <td>1.0</td>\n",
       "      <td>1.0</td>\n",
       "      <td>8.0</td>\n",
       "      <td>0.0</td>\n",
       "    </tr>\n",
       "    <tr>\n",
       "      <th>329660</th>\n",
       "      <td>0.0</td>\n",
       "      <td>0.0</td>\n",
       "      <td>0.0</td>\n",
       "      <td>0.0</td>\n",
       "      <td>1.0</td>\n",
       "      <td>0.0</td>\n",
       "      <td>0.0</td>\n",
       "      <td>7.0</td>\n",
       "      <td>3.0</td>\n",
       "      <td>1.0</td>\n",
       "      <td>3.0</td>\n",
       "      <td>0.0</td>\n",
       "    </tr>\n",
       "    <tr>\n",
       "      <th>329661</th>\n",
       "      <td>1.0</td>\n",
       "      <td>3.0</td>\n",
       "      <td>1.0</td>\n",
       "      <td>0.0</td>\n",
       "      <td>0.0</td>\n",
       "      <td>1.0</td>\n",
       "      <td>0.0</td>\n",
       "      <td>6.0</td>\n",
       "      <td>0.0</td>\n",
       "      <td>1.0</td>\n",
       "      <td>8.0</td>\n",
       "      <td>0.0</td>\n",
       "    </tr>\n",
       "    <tr>\n",
       "      <th>329662</th>\n",
       "      <td>0.0</td>\n",
       "      <td>4.0</td>\n",
       "      <td>1.0</td>\n",
       "      <td>0.0</td>\n",
       "      <td>0.0</td>\n",
       "      <td>1.0</td>\n",
       "      <td>0.0</td>\n",
       "      <td>3.0</td>\n",
       "      <td>0.0</td>\n",
       "      <td>1.0</td>\n",
       "      <td>8.0</td>\n",
       "      <td>0.0</td>\n",
       "    </tr>\n",
       "  </tbody>\n",
       "</table>\n",
       "<p>329663 rows × 12 columns</p>\n",
       "</div>"
      ],
      "text/plain": [
       "        oe_1__Sex  oe_2__GeneralHealth  oe_3_1__PhysicalActivities  \\\n",
       "0             1.0                  2.0                         1.0   \n",
       "1             0.0                  3.0                         1.0   \n",
       "2             0.0                  2.0                         0.0   \n",
       "3             1.0                  4.0                         1.0   \n",
       "4             1.0                  0.0                         0.0   \n",
       "...           ...                  ...                         ...   \n",
       "329658        0.0                  2.0                         0.0   \n",
       "329659        1.0                  2.0                         1.0   \n",
       "329660        0.0                  0.0                         0.0   \n",
       "329661        1.0                  3.0                         1.0   \n",
       "329662        0.0                  4.0                         1.0   \n",
       "\n",
       "        oe_3_3__HadAngina  oe_3_10__HadArthritis  oe_3_11__AlcoholDrinkers  \\\n",
       "0                     0.0                    0.0                       0.0   \n",
       "1                     0.0                    0.0                       1.0   \n",
       "2                     0.0                    1.0                       0.0   \n",
       "3                     0.0                    0.0                       1.0   \n",
       "4                     0.0                    1.0                       0.0   \n",
       "...                   ...                    ...                       ...   \n",
       "329658                0.0                    1.0                       1.0   \n",
       "329659                0.0                    1.0                       0.0   \n",
       "329660                0.0                    1.0                       0.0   \n",
       "329661                0.0                    0.0                       1.0   \n",
       "329662                0.0                    0.0                       1.0   \n",
       "\n",
       "        oe_4__HadDiabetes  oe_5__AgeCategory  oe_6__SmokerStatus  \\\n",
       "0                     0.0                4.0                 0.0   \n",
       "1                     0.0                3.0                 1.0   \n",
       "2                     0.0               11.0                 1.0   \n",
       "3                     0.0                1.0                 0.0   \n",
       "4                     3.0                8.0                 0.0   \n",
       "...                   ...                ...                 ...   \n",
       "329658                0.0               12.0                 1.0   \n",
       "329659                0.0                3.0                 1.0   \n",
       "329660                0.0                7.0                 3.0   \n",
       "329661                0.0                6.0                 0.0   \n",
       "329662                0.0                3.0                 0.0   \n",
       "\n",
       "        oe_8__RaceEthnicityCategory_White only, Non-Hispanic  \\\n",
       "0                                                     0.0      \n",
       "1                                                     1.0      \n",
       "2                                                     0.0      \n",
       "3                                                     1.0      \n",
       "4                                                     1.0      \n",
       "...                                                   ...      \n",
       "329658                                                1.0      \n",
       "329659                                                1.0      \n",
       "329660                                                1.0      \n",
       "329661                                                1.0      \n",
       "329662                                                1.0      \n",
       "\n",
       "        remainder__SleepHours  oe_3_2__HadHeartAttack  \n",
       "0                         6.0                     0.0  \n",
       "1                         7.0                     0.0  \n",
       "2                         8.0                     0.0  \n",
       "3                         7.0                     0.0  \n",
       "4                        16.0                     1.0  \n",
       "...                       ...                     ...  \n",
       "329658                   12.0                     1.0  \n",
       "329659                    8.0                     0.0  \n",
       "329660                    3.0                     0.0  \n",
       "329661                    8.0                     0.0  \n",
       "329662                    8.0                     0.0  \n",
       "\n",
       "[329663 rows x 12 columns]"
      ]
     },
     "execution_count": 37,
     "metadata": {},
     "output_type": "execute_result"
    }
   ],
   "source": [
    "DataFilePath_2 = \"./data/FeatureSelection_1_DataOut_1.csv\"\n",
    "df_fs = pd.read_csv(DataFilePath_2)\n",
    "df_fs"
   ]
  },
  {
   "cell_type": "code",
   "execution_count": 39,
   "metadata": {},
   "outputs": [],
   "source": [
    "X = df.drop(columns=['oe_3_2__HadHeartAttack'])\n",
    "y = df['oe_3_2__HadHeartAttack']\n",
    "X_train_fs, X_test_fs, y_train_fs, y_test_fs = train_test_split(X, y, test_size=0.3,random_state=20240101)\n"
   ]
  },
  {
   "cell_type": "code",
   "execution_count": 40,
   "metadata": {},
   "outputs": [],
   "source": [
    "bbc = BalancedBaggingClassifier(estimator=LogisticRegression(solver='newton-cg',penalty='l2',C=0.01),\n",
    "                                sampling_strategy='auto',\n",
    "                                replacement=False,\n",
    "                                random_state=20231231)\n",
    "bbc.fit(X_train_fs,y_train_fs)\n",
    "y_train_fs_predict = bbc.predict(X_train_fs)\n",
    "y_test_fs_predict = bbc.predict(X_test_fs)"
   ]
  },
  {
   "cell_type": "code",
   "execution_count": 41,
   "metadata": {},
   "outputs": [
    {
     "name": "stdout",
     "output_type": "stream",
     "text": [
      "Training Dataset\n",
      "____________________________________________________________\n",
      "                    precision    recall  f1-score   support\n",
      "\n",
      " HadHeartAttack_No       0.98      0.83      0.90    218451\n",
      "HadHeartAttack_Yes       0.20      0.77      0.32     12313\n",
      "\n",
      "          accuracy                           0.83    230764\n",
      "         macro avg       0.59      0.80      0.61    230764\n",
      "      weighted avg       0.94      0.83      0.87    230764\n",
      "\n",
      "____________________________________________________________\n",
      "Training set accuracy: 0.8259\n",
      "____________________________________________________________\n",
      "############################################################\n",
      "Testing Dataset\n",
      "____________________________________________________________\n",
      "                    precision    recall  f1-score   support\n",
      "\n",
      " HadHeartAttack_No       0.98      0.83      0.90     93647\n",
      "HadHeartAttack_Yes       0.20      0.76      0.32      5252\n",
      "\n",
      "          accuracy                           0.83     98899\n",
      "         macro avg       0.59      0.80      0.61     98899\n",
      "      weighted avg       0.94      0.83      0.87     98899\n",
      "\n",
      "____________________________________________________________\n",
      "Testing set accuracy: 0.8260\n",
      "____________________________________________________________\n",
      "############################################################\n"
     ]
    }
   ],
   "source": [
    "print(\"Training Dataset\")\n",
    "print(\"_\"*60)\n",
    "print(classification_report(y_train_fs,y_train_fs_predict,target_names=target_classes))\n",
    "print(\"_\"*60)\n",
    "print(\"Training set accuracy: {:.4f}\".format(bbc.score(X_train_fs,y_train_fs)))\n",
    "print(\"_\"*60)\n",
    "print(\"#\"*60)\n",
    "print(\"Testing Dataset\")\n",
    "print(\"_\"*60)\n",
    "print(classification_report(y_test_fs,y_test_fs_predict,target_names=target_classes))\n",
    "print(\"_\"*60)\n",
    "print(\"Testing set accuracy: {:.4f}\".format(bbc.score(X_test_fs,y_test_fs)))\n",
    "print(\"_\"*60)\n",
    "print(\"#\"*60)"
   ]
  },
  {
   "cell_type": "code",
   "execution_count": null,
   "metadata": {},
   "outputs": [],
   "source": []
  }
 ],
 "metadata": {
  "kernelspec": {
   "display_name": ".venv",
   "language": "python",
   "name": "python3"
  },
  "language_info": {
   "codemirror_mode": {
    "name": "ipython",
    "version": 3
   },
   "file_extension": ".py",
   "mimetype": "text/x-python",
   "name": "python",
   "nbconvert_exporter": "python",
   "pygments_lexer": "ipython3",
   "version": "3.11.7"
  }
 },
 "nbformat": 4,
 "nbformat_minor": 2
}
